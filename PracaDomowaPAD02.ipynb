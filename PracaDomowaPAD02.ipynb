{
 "cells": [
  {
   "cell_type": "markdown",
   "metadata": {
    "id": "YBf77-O2VMaK"
   },
   "source": [
    "## iterator"
   ]
  },
  {
   "cell_type": "code",
   "execution_count": 58,
   "metadata": {
    "id": "MobBtdWEVEu1"
   },
   "outputs": [
    {
     "name": "stdout",
     "output_type": "stream",
     "text": [
      "Wpisz dowolną liczbę całkowitą:20\n",
      "0\n",
      "0\n",
      "0\n",
      "1\n",
      "1\n",
      "2\n",
      "4\n",
      "8\n",
      "15\n",
      "29\n",
      "56\n",
      "108\n",
      "208\n",
      "401\n",
      "773\n",
      "1490\n",
      "2872\n",
      "5536\n",
      "10671\n",
      "20569\n"
     ]
    }
   ],
   "source": [
    "'''\n",
    "Zadanie 1\n",
    "Zaimplementuj własny iterator o nazwie tetranacci, zwracający kolejne liczby ciągu Tetranacciego.\n",
    "Funkcja __init__ powinna posiadać parametr o nazwie steps określający liczbę wyrazów ciągu,\n",
    "po których funkcja __next__ rzuca wyjątek StopIteration.\n",
    "Napisz program, w którym wykorzystasz swój iterator do wypisania na ekranie kolejnych wyrazów tego ciągu.\n",
    "Niech liczbę wyrazów do wypisania podaje użytkownik.\n",
    "\n",
    "'''\n",
    "\n",
    "class Tetranacci:\n",
    "    def __init__(self,steps):\n",
    "        self.steps = steps\n",
    "        self.count = 0\n",
    "        self.values = [0,0,0,1]\n",
    "        \n",
    "    def __iter__(self):\n",
    "        return self\n",
    "    \n",
    "    def __next__(self):\n",
    "        if self.count < self.steps:\n",
    "            self.count += 1\n",
    "            if self.count <= 4:\n",
    "                return self.values[self.count - 1]\n",
    "            else:\n",
    "                next_value = sum(self.values)\n",
    "                self.values = self.values[1:] + [next_value]\n",
    "                return next_value\n",
    "        else:\n",
    "            raise StopIteration\n",
    "                \n",
    "steps = int(input(\"Wpisz dowolną liczbę całkowitą:\"))\n",
    "tet = Tetranacci(steps)\n",
    "\n",
    "for val in tet:\n",
    "    print(val)"
   ]
  },
  {
   "cell_type": "markdown",
   "metadata": {
    "id": "HgA0kNjTVXwG"
   },
   "source": [
    "## generator"
   ]
  },
  {
   "cell_type": "code",
   "execution_count": null,
   "metadata": {
    "id": "hl3BhofyVdoH"
   },
   "outputs": [],
   "source": [
    "'''\n",
    "Zadanie 2\n",
    "Zaimplementuj własny generator o nazwie accumulate,\n",
    "zwracający kolejne sumy elementów z podanego obiektu iterowalnego.\n",
    "'''\n",
    "\n",
    "def accumulate(obiekt_iterowalny):\n",
    "    suma = 0\n",
    "    for wartosc in obiekt_iterowalny:\n",
    "        suma += wartosc\n",
    "        yield suma\n",
    "    \n",
    "for val in accumulate([1,2,3,4]):\n",
    "    print(val)"
   ]
  },
  {
   "cell_type": "code",
   "execution_count": null,
   "metadata": {
    "id": "ffhbiOTJVnmB"
   },
   "outputs": [],
   "source": [
    "'''\n",
    "Zadanie 3\n",
    "\n",
    "Napisz własny dekorator o nazwie hello. Wynikiem jego działania powinno być:\n",
    "• wypisanie na ekranie napisu hello\n",
    "• wywołanie funkcji przekazanej jako argument.\n",
    "'''\n",
    "def hello(my_function):\n",
    "    def wrapper(*args, **kwargs):\n",
    "        print(\"Hello\")\n",
    "        return my_function(*args, **kwargs)\n",
    "    return wrapper\n",
    "\n",
    "@hello\n",
    "def greet(name):\n",
    "    print(f\"miło cię poznać {name}\")\n",
    "    \n",
    "greet(\"Arek\")"
   ]
  },
  {
   "cell_type": "code",
   "execution_count": null,
   "metadata": {
    "id": "NjZRSS6sVrm5"
   },
   "outputs": [],
   "source": [
    "'''\n",
    "Zadanie 4\n",
    "Zaimplementuj własną funkcję o nazwie tetranacci, zwracający określony element ciągu Tetranacciego.\n",
    "Funkcja powinna posiadać parametr o nazwie n określający numer wyrazu ciągu do obliczenia.\n",
    "Obliczenia wykonuj rekurencyjnie.\n",
    "'''\n",
    "\n",
    "def Tetranacci(n):\n",
    "    if n == 1 or n == 2 or n == 3:\n",
    "        return 0\n",
    "    elif n == 4:\n",
    "        return 1\n",
    "    else:\n",
    "        return Tetranacci(n-1) + Tetranacci(n-2) + Tetranacci(n-3) + Tetranacci(n-4)\n",
    "    \n",
    "print(Tetranacci(12))\n"
   ]
  },
  {
   "cell_type": "markdown",
   "metadata": {
    "id": "eDFgAg3cWRAk"
   },
   "source": [
    "## klasy"
   ]
  },
  {
   "cell_type": "code",
   "execution_count": null,
   "metadata": {
    "id": "LMrKGhhSWMM8"
   },
   "outputs": [],
   "source": [
    "'''\n",
    "Zadanie 5\n",
    "Stwórz klasę Pojazd z atrybutami predkosc_max i przebieg\n",
    "stwórz instancję klasy i wydrukuj jej atrybuty do konsoli\n",
    "tworzac instancję możesz podać dowolne wielkości\n",
    "'''\n",
    "class Pojazd:\n",
    "    def __init__(self, predkosc_max, przebieg):\n",
    "        self.predkosc_max = predkosc_max\n",
    "        self.przebieg = przebieg\n",
    "\n",
    "    def wyswietl_atrybuty(self):\n",
    "        print(\"Maksymalna prędkość: {} km/h\".format(self.predkosc_max))\n",
    "        print(\"Przebieg: {} km\".format(self.przebieg))\n",
    "\n",
    "\n",
    "# Tworzymy instancję klasy Pojazd\n",
    "moj_pojazd = Pojazd(predkosc_max=200, przebieg=15000)\n",
    "\n",
    "# Wyświetlamy atrybuty pojazdu\n",
    "moj_pojazd.wyswietl_atrybuty()\n"
   ]
  },
  {
   "cell_type": "code",
   "execution_count": null,
   "metadata": {
    "id": "z_dYT1f5Wexv"
   },
   "outputs": [],
   "source": [
    "'''\n",
    "Zadanie 6\n",
    "Stwórz klasę Autobus, która dziedziczy po Pojeździe utworzonym wcześniej,\n",
    "ale do atrybutów Pojazdu dodaj jeszcze nazwę modelu\n",
    "stwórz instancję klasy i wydrukuj jej atrybuty\n",
    "'''\n",
    "\n",
    "class Autobus(Pojazd):\n",
    "    def __init__(self, predkosc_max, przebieg, model):\n",
    "        super().__init__(predkosc_max, przebieg)\n",
    "        self.model = model\n",
    "        \n",
    "    def wyswietl_atrybuty(self):\n",
    "        super().wyswietl_atrybuty()\n",
    "        print(\"Model: {}\".format(self.model))\n",
    "        \n",
    "autobusik = Autobus(predkosc_max = 100, przebieg = 2000, model = \"audi\")\n",
    "autobusik.wyswietl_atrybuty()"
   ]
  },
  {
   "cell_type": "code",
   "execution_count": null,
   "metadata": {
    "id": "CDj9cBQoWj-v"
   },
   "outputs": [],
   "source": [
    "'''\n",
    "Zadanie 7\n",
    "klasie Pojazd utwórz metodę liczba_miejsc, która będzie przyjmowała jako argument liczbę miejsc i wyświetlała komunikat:\n",
    "\"{TU WSTAWIMY NAZWE POJAZDU} pomieści {LICZBA MIEJSC} osób.\"\n",
    "Klasa Autobus ma też dziedziczyć tę metodę, ale dodatkowo przyjmować wartość domyślną dla liczby miejsc = 50\n",
    "Utwórz instancję klasy aby zaprezentować działanie\n",
    "'''\n",
    "\n",
    "class Pojazd:\n",
    "    def __init__(self, predkosc_max, przebieg, model):\n",
    "        self.predkosc_max = predkosc_max\n",
    "        self.przebieg = przebieg\n",
    "        self.model = model\n",
    "    def komunikat(self, miejsca):\n",
    "        self.miejsca = miejsca\n",
    "        return f\"{self.model} pomieści {miejsca} osób\"\n",
    "\n",
    "class Autobus(Pojazd):\n",
    "    def komunikat(self, miejsca = 50):\n",
    "        return super().komunikat(miejsca)\n",
    "    \n",
    "szkolny_autobus = Autobus(predkosc_max = 80, przebieg = 200000000, model = \"Mazda\")\n",
    "print(szkolny_autobus.komunikat())\n",
    "print(szkolny_autobus.komunikat(miejsca = 20))"
   ]
  },
  {
   "cell_type": "code",
   "execution_count": null,
   "metadata": {
    "id": "y2s80EMmWrKP"
   },
   "outputs": [],
   "source": [
    "'''\n",
    "Zadanie 8\n",
    "Sprawdź czy obiekt autobus jest instancją klasy Pojazd\n",
    "'''\n",
    "print(isinstance(szkolny_autobus, Pojazd))"
   ]
  },
  {
   "cell_type": "markdown",
   "metadata": {
    "id": "jjNBmv7pVwP_"
   },
   "source": [
    "## PRACA DOMOWA (15 pkt)"
   ]
  },
  {
   "cell_type": "code",
   "execution_count": 56,
   "metadata": {
    "id": "TTUMq_uuVx32"
   },
   "outputs": [
    {
     "name": "stdout",
     "output_type": "stream",
     "text": [
      "Podaj dowolną liczbę całkowitą: 20\n",
      "20569\n"
     ]
    }
   ],
   "source": [
    "def tetranacci_cache(tetr_func):\n",
    "    cache = {}\n",
    "    def wrapper(steps):\n",
    "        if steps in cache:\n",
    "            return cache[steps]\n",
    "        result = tetr_func(steps)\n",
    "        cache[steps] = result\n",
    "        return result\n",
    "    return wrapper\n",
    "\n",
    "@tetranacci_cache\n",
    "def Tetranacci(n):\n",
    "    if n == 1 or n == 2 or n == 3:\n",
    "        return 0\n",
    "    elif n == 4:\n",
    "        return 1\n",
    "    else:\n",
    "        return Tetranacci(n-1) + Tetranacci(n-2) + Tetranacci(n-3) + Tetranacci(n-4)\n",
    "\n",
    "steps = int(input(\"Podaj dowolną liczbę całkowitą: \"))\n",
    "result = Tetranacci(steps)\n",
    "print(result) \n"
   ]
  },
  {
   "cell_type": "code",
   "execution_count": null,
   "metadata": {},
   "outputs": [],
   "source": [
    "steps = int(input(\"Podaj dowolną liczbę całkowitą: \"))\n",
    "result = Tetranacci(steps)\n",
    "for val in result:\n",
    "    print(val)"
   ]
  },
  {
   "cell_type": "code",
   "execution_count": null,
   "metadata": {
    "id": "Q_Ur2Z9uWF-l"
   },
   "outputs": [],
   "source": [
    "'''\n",
    "Zadanie 2 (4 pkt)\n",
    "Zaimplementuj własny generator o nazwie repeat, zwracający obiekt podany przez użytkownika dokładnie N razy.\n",
    "Jeśli wartość parametru N nie została określona, generator powinien zwracać wartości w nieskończoność.\n",
    "\n",
    "PRZYKŁAD\n",
    "repeat(10, 3) → 10 10 10\n",
    "repeat(10, 5) → 10 10 10 10 10\n",
    "repeat(5) → 5 5 5 5 5 5 5 5 5 5 5 5 5 5 5…\n",
    "repeat(5, None) → 5 5 5 5 5 5 5 5 5 5 5 5 5 5 5…\n",
    "'''\n",
    "\n",
    "def repeat(element, N = None):\n",
    "    if N is None:\n",
    "        while True:\n",
    "            yield element\n",
    "    else:\n",
    "        for n in range(N):\n",
    "            yield element\n",
    "            \n",
    "#for val in repeat(N = None, element = 5):\n",
    "#    print(val)\n",
    "\n",
    "for val in repeat(N = 5, element = 5):\n",
    "    print(val)\n",
    "    \n",
    "#for fal in repeat(element = 5):\n",
    "#    print(val)"
   ]
  },
  {
   "cell_type": "code",
   "execution_count": 59,
   "metadata": {
    "id": "gChh80FsWzT7"
   },
   "outputs": [
    {
     "name": "stdout",
     "output_type": "stream",
     "text": [
      "Maksymalna prędkość: 200 km/h\n",
      "Przebieg: 15000 km\n",
      "Kolor: biały\n"
     ]
    }
   ],
   "source": [
    "'''\n",
    "Zadanie 3 (1 pkt)\n",
    "W kodzie z zajęć w klasie Pojazd utwórz atrybut, który niezależnie od utworzonego obiektu będzie miał taką samą wartość.\n",
    "każdy obiekt ma mieć kolor biały\n",
    "'''\n",
    "\n",
    "class Pojazd:\n",
    "    kolor = \"biały\" # tutaj dodane\n",
    "    def __init__(self, predkosc_max, przebieg):\n",
    "        self.predkosc_max = predkosc_max\n",
    "        self.przebieg = przebieg\n",
    "\n",
    "    def wyswietl_atrybuty(self):\n",
    "        print(\"Maksymalna prędkość: {} km/h\".format(self.predkosc_max)) #__init__() got an unexpected keyword argument 'kolor' - gdy kolor = \"czarny\"\n",
    "        print(\"Przebieg: {} km\".format(self.przebieg))\n",
    "        print(\"Kolor: {}\".format(self.kolor))\n",
    "\n",
    "\n",
    "# Tworzymy instancję klasy Pojazd\n",
    "moj_pojazd = Pojazd(predkosc_max=200, przebieg=15000)\n",
    "\n",
    "# Wyświetlamy atrybuty pojazdu\n",
    "moj_pojazd.wyswietl_atrybuty()\n",
    "\n"
   ]
  },
  {
   "cell_type": "code",
   "execution_count": 60,
   "metadata": {
    "id": "Q4Js_zjIXHZi"
   },
   "outputs": [
    {
     "name": "stdout",
     "output_type": "stream",
     "text": [
      "Opłata za autobus: 5500.0\n",
      "Opłata za przejazd mitsubishi: 5000\n"
     ]
    }
   ],
   "source": [
    "'''\n",
    "Zadanie 4 (2 pkt)\n",
    "Wykorzystaj klasy Autobus i Pojazd.\n",
    "Zdefiniuj metodę opłata, k†óra będzie miała wartość domyślną liczba_miejsc * 100\n",
    "Jeżeli Pojazd jest instancją Autobusu, opłata ma zostać powiększona o 10% wartości opłaty początkowej.\n",
    "Np. jeżeli autobus domyślnie ma 50 miejsc to opłata całkowita wyniesie 5500\n",
    "'''\n",
    "\n",
    "class Pojazd:\n",
    "    def __init__(self, predkosc_max, przebieg, liczba_miejsc):\n",
    "        self.predkosc_max = predkosc_max\n",
    "        self.przebieg = przebieg\n",
    "        self.liczba_miejsc = liczba_miejsc\n",
    "    def wyswietl_atrybuty(self):\n",
    "        print(\"Predkosc maksymalna: {} km/h\".format(self.predkosc_max))\n",
    "        print(\"Przebieg: {} km\".format(self.przebieg))\n",
    "        print(\"Liczba miejsc: {}\".format(self.liczba_miejsc))\n",
    "    def oplata(self):\n",
    "        if isinstance(self, Autobus):\n",
    "            return self.liczba_miejsc * 100 * 1.1\n",
    "        else:\n",
    "            return self.liczba_miejsc * 100\n",
    "\n",
    "class Autobus(Pojazd):\n",
    "    def __init__(self, predkosc_max, przebieg, model, liczba_miejsc):\n",
    "        super().__init__(predkosc_max, przebieg, liczba_miejsc)\n",
    "        self.model = model\n",
    "    def wyswietl_atrybuty(self):\n",
    "        super().wyswietl_atrybuty()\n",
    "        print(\"Model: {}\".format(self.model))\n",
    "    def oplata(self):\n",
    "        return super().oplata()\n",
    "\n",
    "autobusik = Autobus(predkosc_max=40, przebieg=2000000, model=\"Mazda\", liczba_miejsc=50)\n",
    "oplata = autobusik.oplata()\n",
    "print(\"Opłata za autobus: {}\".format(oplata))\n",
    "pojazdzik = Pojazd(predkosc_max = 300, przebieg = 10, liczba_miejsc = 50)\n",
    "oplata_mitsubishi = pojazdzik.oplata()\n",
    "print(\"Opłata za przejazd mitsubishi: {}\".format(oplata_mitsubishi))"
   ]
  },
  {
   "cell_type": "code",
   "execution_count": 65,
   "metadata": {
    "id": "BsdImsIAXXsu"
   },
   "outputs": [
    {
     "name": "stdout",
     "output_type": "stream",
     "text": [
      "Miejsca zerowe: [-1.0, -0.5]\n",
      "1\n",
      "6\n",
      "Równanie ma nieskończenie wiele miejsc zerowych, bo samo jest zerem.\n",
      "Równanie nie ma miejsc zerowych, bo nie leży na osi X.\n",
      "-1.5\n",
      "Funkcja nie ma miejsc zerowych.\n",
      "[2.0, 3.0]\n",
      "-2.0\n",
      "Miejsca zerowe: [2.0, 3.0]\n",
      "Miejsce zerowe: Równanie ma nieskończenie wiele miejsc zerowych, bo samo jest zerem.\n"
     ]
    }
   ],
   "source": [
    "'''\n",
    "Zadanie 5 (4 pkt)\n",
    "Napisz klasę FunkcjaKwadratowa, która przechowuje funkcje typu $ax^2$+bx+c.\n",
    "Klasa powinna zawierać trzy pola: a, b, c, które są przypisywane w konstruktorze.\n",
    "Główną metodą powinna być rozwiaz(), która zwraca miejsca zerowe podanej funkcji.\n",
    "Należy zwrócić uwagę na przypadki gdy a=0, b=0 lub c=0,\n",
    "a także obmyślić sposób informowania o nieskończonej liczbie, jednym lub zerze rozwiązań.\n",
    "'''\n",
    "\n",
    "'''\n",
    "początek kodu dla ułatwienia\n",
    "\n",
    "'''\n",
    "\n",
    "class FunkcjaKwadratowa:\n",
    "    def __init__(self, a, b, c):\n",
    "        self.a = a\n",
    "        self.b = b\n",
    "        self.c = c\n",
    "\n",
    "    def wypisz(self):\n",
    "        miejsca_zerowe = self.rozwiaz()\n",
    "        if miejsca_zerowe == None:\n",
    "            print(\"Brak miejsc zerowych.\")\n",
    "        elif isinstance(miejsca_zerowe, list):\n",
    "            print(\"Miejsca zerowe:\", miejsca_zerowe)\n",
    "        else:\n",
    "            print(\"Miejsce zerowe:\", miejsca_zerowe)\n",
    "\n",
    "    def oblicz_wartosc(self, x):\n",
    "        return self.a * x * x + self.b * x + self.c\n",
    "\n",
    "    def rozwiaz(self):\n",
    "        if self.a == 0:\n",
    "            if self.b == 0:\n",
    "                if self.c == 0:\n",
    "                    return \"Równanie ma nieskończenie wiele miejsc zerowych, bo samo jest zerem.\"\n",
    "                else:\n",
    "                    return \"Równanie nie ma miejsc zerowych, bo nie leży na osi X.\"\n",
    "            else:\n",
    "                x = -self.c / self.b  # z wzoru na miejsce zerowe funkcji liniowej\n",
    "                return x\n",
    "        else:\n",
    "            delta = self.b ** 2 - 4 * self.a * self.c\n",
    "            if delta > 0:\n",
    "                x1 = (-self.b - math.sqrt(delta)) / (2 * self.a)\n",
    "                x2 = (-self.b + math.sqrt(delta)) / (2 * self.a)\n",
    "                return [x1, x2]\n",
    "            elif delta == 0:\n",
    "                x = -self.b / (2 * self.a)\n",
    "                return x\n",
    "            else:\n",
    "                return \"Funkcja nie ma miejsc zerowych.\"\n",
    "\n",
    "\n",
    "def main():\n",
    "    f1 = FunkcjaKwadratowa(2, 3, 1)\n",
    "    f1.wypisz()\n",
    "    print(f1.oblicz_wartosc(0))\n",
    "    print(f1.oblicz_wartosc(1))\n",
    "\n",
    "    print(FunkcjaKwadratowa(0, 0, 0).rozwiaz())\n",
    "    print(FunkcjaKwadratowa(0, 0, 1).rozwiaz())\n",
    "    print(FunkcjaKwadratowa(0, 2, 3).rozwiaz())\n",
    "    print(FunkcjaKwadratowa(1, 2, 3).rozwiaz())\n",
    "    print(FunkcjaKwadratowa(1, -5, 6).rozwiaz())\n",
    "    print(FunkcjaKwadratowa(1, 4, 4).rozwiaz())\n",
    "\n",
    "if __name__ == \"__main__\":\n",
    "    main()\n",
    "    \n",
    "FunkcjaKwadratowa(1, -5, 6).wypisz() "
   ]
  }
 ],
 "metadata": {
  "colab": {
   "authorship_tag": "ABX9TyPfvCA8avt9JyH+RrMyhpFb",
   "provenance": []
  },
  "kernelspec": {
   "display_name": "Python 3 (ipykernel)",
   "language": "python",
   "name": "python3"
  },
  "language_info": {
   "codemirror_mode": {
    "name": "ipython",
    "version": 3
   },
   "file_extension": ".py",
   "mimetype": "text/x-python",
   "name": "python",
   "nbconvert_exporter": "python",
   "pygments_lexer": "ipython3",
   "version": "3.9.7"
  }
 },
 "nbformat": 4,
 "nbformat_minor": 1
}
